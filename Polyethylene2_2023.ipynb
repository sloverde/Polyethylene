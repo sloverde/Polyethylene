{
  "nbformat": 4,
  "nbformat_minor": 0,
  "metadata": {
    "colab": {
      "provenance": [],
      "history_visible": true,
      "authorship_tag": "ABX9TyPwoH6o4/FfMoh0tUAn5Tc9",
      "include_colab_link": true
    },
    "kernelspec": {
      "name": "python3",
      "display_name": "Python 3"
    },
    "language_info": {
      "name": "python"
    },
    "accelerator": "GPU",
    "gpuClass": "standard"
  },
  "cells": [
    {
      "cell_type": "markdown",
      "metadata": {
        "id": "view-in-github",
        "colab_type": "text"
      },
      "source": [
        "<a href=\"https://colab.research.google.com/github/sloverde/Polyethylene/blob/main/Polyethylene2_2023.ipynb\" target=\"_parent\"><img src=\"https://colab.research.google.com/assets/colab-badge.svg\" alt=\"Open In Colab\"/></a>"
      ]
    },
    {
      "cell_type": "markdown",
      "source": [
        "Test notebook to run gromacs and perform a simulation of a polyethylene melt.  System setup was done using Charmm-gui.\n",
        "\n",
        "https://www.charmm-gui.org/\n",
        "\n",
        "If you wish to visualize the results of your simulations you will need to separately download and install VMD on your machine: https://www.ks.uiuc.edu/Development/Download/download.cgi?PackageName=VMD"
      ],
      "metadata": {
        "id": "Rjw7X9RkI42V"
      }
    },
    {
      "cell_type": "markdown",
      "source": [
        "First download gromacs which is open source molecular simulation software."
      ],
      "metadata": {
        "id": "NfunERFA2L9q"
      }
    },
    {
      "cell_type": "code",
      "metadata": {
        "id": "hLoWxW4grDM4",
        "colab": {
          "base_uri": "https://localhost:8080/"
        },
        "outputId": "ebf8f97c-c1c8-44d2-8360-befdd4590052"
      },
      "source": [
        "# Download and unzip the compressed folder of GROMACS 2023.3 version\n",
        "!wget https://raw.githubusercontent.com/pb3lab/ibm3202/master/software/gromacs-2023.3.tar.gz\n",
        "!tar xzf gromacs-2023.3.tar.gz"
      ],
      "execution_count": null,
      "outputs": [
        {
          "output_type": "stream",
          "name": "stdout",
          "text": [
            "--2023-11-10 21:10:36--  https://raw.githubusercontent.com/pb3lab/ibm3202/master/software/gromacs-2023.3.tar.gz\n",
            "Resolving raw.githubusercontent.com (raw.githubusercontent.com)... 185.199.108.133, 185.199.109.133, 185.199.110.133, ...\n",
            "Connecting to raw.githubusercontent.com (raw.githubusercontent.com)|185.199.108.133|:443... connected.\n",
            "HTTP request sent, awaiting response... 200 OK\n",
            "Length: 27520268 (26M) [application/octet-stream]\n",
            "Saving to: ‘gromacs-2023.3.tar.gz.3’\n",
            "\n",
            "gromacs-2023.3.tar. 100%[===================>]  26.25M  85.6MB/s    in 0.3s    \n",
            "\n",
            "2023-11-10 21:10:36 (85.6 MB/s) - ‘gromacs-2023.3.tar.gz.3’ saved [27520268/27520268]\n",
            "\n"
          ]
        }
      ]
    },
    {
      "cell_type": "code",
      "source": [
        "ls"
      ],
      "metadata": {
        "id": "NyvxYV-b3CqJ",
        "colab": {
          "base_uri": "https://localhost:8080/"
        },
        "outputId": "d95d1fde-84d6-43b9-a848-3e9b8a6a3caf"
      },
      "execution_count": null,
      "outputs": [
        {
          "output_type": "stream",
          "name": "stdout",
          "text": [
            "\u001b[0m\u001b[01;34mgromacs\u001b[0m/       gromacs-2023.3.tar.gz    gromacs-2023.3.tar.gz.2  gromacs.tar.gz    \u001b[01;34mPolyethylene\u001b[0m/\n",
            "\u001b[01;34mgromacs-2023\u001b[0m/  gromacs-2023.3.tar.gz.1  gromacs-2023.3.tar.gz.3  gromacs.tar.gz.1  \u001b[01;34msample_data\u001b[0m/\n"
          ]
        }
      ]
    },
    {
      "cell_type": "markdown",
      "source": [
        "Clone Prof. Loverde's github repository with respective files."
      ],
      "metadata": {
        "id": "7mc3DwSCG5Yf"
      }
    },
    {
      "cell_type": "code",
      "source": [
        "!git clone https://github.com/sloverde/Polyethylene.git"
      ],
      "metadata": {
        "colab": {
          "base_uri": "https://localhost:8080/"
        },
        "id": "p_A-cAp9FWqC",
        "outputId": "2c94da90-47e3-4ec3-ceee-672331fdfc73"
      },
      "execution_count": null,
      "outputs": [
        {
          "output_type": "stream",
          "name": "stdout",
          "text": [
            "fatal: destination path 'Polyethylene' already exists and is not an empty directory.\n"
          ]
        }
      ]
    },
    {
      "cell_type": "code",
      "source": [
        "ls"
      ],
      "metadata": {
        "id": "YYiCoAXiFolP",
        "colab": {
          "base_uri": "https://localhost:8080/"
        },
        "outputId": "024fbe02-7b1c-40b6-a479-a87ca6b25d5c"
      },
      "execution_count": null,
      "outputs": [
        {
          "output_type": "stream",
          "name": "stdout",
          "text": [
            "\u001b[0m\u001b[01;34mgromacs\u001b[0m/       gromacs-2023.3.tar.gz    gromacs-2023.3.tar.gz.2  gromacs.tar.gz    \u001b[01;34mPolyethylene\u001b[0m/\n",
            "\u001b[01;34mgromacs-2023\u001b[0m/  gromacs-2023.3.tar.gz.1  gromacs-2023.3.tar.gz.3  gromacs.tar.gz.1  \u001b[01;34msample_data\u001b[0m/\n"
          ]
        }
      ]
    },
    {
      "cell_type": "code",
      "source": [
        "pwd"
      ],
      "metadata": {
        "colab": {
          "base_uri": "https://localhost:8080/",
          "height": 35
        },
        "id": "DP5RxVjAgF66",
        "outputId": "981e9053-b14e-450c-85c6-43033179fe4d"
      },
      "execution_count": null,
      "outputs": [
        {
          "output_type": "execute_result",
          "data": {
            "text/plain": [
              "'/content'"
            ],
            "application/vnd.google.colaboratory.intrinsic+json": {
              "type": "string"
            }
          },
          "metadata": {},
          "execution_count": 5
        }
      ]
    },
    {
      "cell_type": "markdown",
      "source": [
        "Source Gromacs and make sure it runs."
      ],
      "metadata": {
        "id": "zmWwmfNfG9pc"
      }
    },
    {
      "cell_type": "code",
      "source": [
        "%%bash\n",
        "source /content/gromacs-2023/bin/GMXRC\n",
        "gmx -h"
      ],
      "metadata": {
        "colab": {
          "base_uri": "https://localhost:8080/"
        },
        "id": "5yNkMohZGovE",
        "outputId": "75e144cf-b533-48a7-b158-99b648239dc6"
      },
      "execution_count": null,
      "outputs": [
        {
          "output_type": "stream",
          "name": "stdout",
          "text": [
            "SYNOPSIS\n",
            "\n",
            "gmx [-[no]h] [-[no]quiet] [-[no]version] [-[no]copyright] [-nice <int>]\n",
            "    [-[no]backup]\n",
            "\n",
            "OPTIONS\n",
            "\n",
            "Other options:\n",
            "\n",
            " -[no]h                     (no)\n",
            "           Print help and quit\n",
            " -[no]quiet                 (no)\n",
            "           Do not print common startup info or quotes\n",
            " -[no]version               (no)\n",
            "           Print extended version information and quit\n",
            " -[no]copyright             (no)\n",
            "           Print copyright information on startup\n",
            " -nice   <int>              (19)\n",
            "           Set the nicelevel (default depends on command)\n",
            " -[no]backup                (yes)\n",
            "           Write backups if output files exist\n",
            "\n",
            "Additional help is available on the following topics:\n",
            "    commands    List of available commands\n",
            "    selections  Selection syntax and usage\n",
            "To access the help, use 'gmx help <topic>'.\n",
            "For help on a command, use 'gmx help <command>'.\n"
          ]
        },
        {
          "output_type": "stream",
          "name": "stderr",
          "text": [
            "                         :-) GROMACS - gmx, 2023.3 (-:\n",
            "\n",
            "Executable:   /content/gromacs-2023/bin/gmx\n",
            "Data prefix:  /content/gromacs-2023\n",
            "Working dir:  /content\n",
            "Command line:\n",
            "  gmx -h\n",
            "\n",
            "\n",
            "GROMACS reminds you: \"Read me your scripture and I will twist it\" (Red Hot Chili Peppers)\n",
            "\n"
          ]
        }
      ]
    },
    {
      "cell_type": "code",
      "source": [
        "cd Polyethylene/\n"
      ],
      "metadata": {
        "colab": {
          "base_uri": "https://localhost:8080/"
        },
        "id": "eloudpnPHmZf",
        "outputId": "8bb7995b-4b59-4b17-a7b2-994bb046a309"
      },
      "execution_count": null,
      "outputs": [
        {
          "output_type": "stream",
          "name": "stdout",
          "text": [
            "/content/Polyethylene\n"
          ]
        }
      ]
    },
    {
      "cell_type": "markdown",
      "source": [
        "Set up the minimization files and next minimize."
      ],
      "metadata": {
        "id": "BlwTutXEmG8B"
      }
    },
    {
      "cell_type": "code",
      "source": [
        "%%bash\n",
        "source /content/gromacs-2023/bin/GMXRC\n",
        "gmx grompp -f step4.0_minimization.mdp -o step4.0_minimization.tpr -c step3_input.gro -r step3_input.gro -p topol.top -n index.ndx -maxwarn 1"
      ],
      "metadata": {
        "colab": {
          "base_uri": "https://localhost:8080/"
        },
        "id": "pDmoLou_RJ4g",
        "outputId": "78572a96-c6ad-4c69-f7c3-5b5f0c0c7136"
      },
      "execution_count": null,
      "outputs": [
        {
          "output_type": "stream",
          "name": "stdout",
          "text": [
            "Setting the LD random seed to 2112862143\n",
            "\n",
            "Generated 10 of the 10 non-bonded parameter combinations\n",
            "\n",
            "Generated 3 of the 10 1-4 parameter combinations\n",
            "\n",
            "Excluding 3 bonded neighbours molecule type 'S1P1'\n",
            "\n",
            "turning H bonds into constraints...\n",
            "\n",
            "The largest distance between excluded atoms is 0.434 nm between atom 13247 and 13256\n",
            "Calculating fourier grid dimensions for X Y Z\n",
            "Using a fourier grid of 84x84x84, spacing 0.117 0.117 0.117\n",
            "\n",
            "Estimate for the relative computational load of the PME mesh part: 0.15\n",
            "\n",
            "This run will generate roughly 6 Mb of data\n"
          ]
        },
        {
          "output_type": "stream",
          "name": "stderr",
          "text": [
            "                      :-) GROMACS - gmx grompp, 2023.3 (-:\n",
            "\n",
            "Executable:   /content/gromacs-2023/bin/gmx\n",
            "Data prefix:  /content/gromacs-2023\n",
            "Working dir:  /content/Polyethylene\n",
            "Command line:\n",
            "  gmx grompp -f step4.0_minimization.mdp -o step4.0_minimization.tpr -c step3_input.gro -r step3_input.gro -p topol.top -n index.ndx -maxwarn 1\n",
            "\n",
            "Generating 1-4 interactions: fudge = 1\n",
            "\n",
            "WARNING 1 [file topol.top, line 20]:\n",
            "  The following macros were defined in the 'define' mdp field with the -D\n",
            "  prefix, but were not used in the topology:\n",
            "      POSRES_FC_SC\n",
            "  If you haven't made a spelling error, either use the macro you defined,\n",
            "  or don't define the macro\n",
            "\n",
            "Number of degrees of freedom in T-Coupling group rest is 185181.00\n",
            "The integrator does not provide a ensemble temperature, there is no system ensemble temperature\n",
            "\n",
            "NOTE 1 [file step4.0_minimization.mdp]:\n",
            "  Removing center of mass motion in the presence of position restraints\n",
            "  might cause artifacts. When you are using position restraints to\n",
            "  equilibrate a macro-molecule, the artifacts are usually negligible.\n",
            "\n",
            "\n",
            "There was 1 NOTE\n",
            "\n",
            "There was 1 WARNING\n",
            "\n",
            "Back Off! I just backed up step4.0_minimization.tpr to ./#step4.0_minimization.tpr.2#\n",
            "\n",
            "GROMACS reminds you: \"I don’t think we’re afraid of inline assembly.\" (Szilard Pall)\n",
            "\n"
          ]
        }
      ]
    },
    {
      "cell_type": "code",
      "source": [
        "ls"
      ],
      "metadata": {
        "colab": {
          "base_uri": "https://localhost:8080/"
        },
        "id": "vW6xHarhE2C8",
        "outputId": "310913d6-687d-45db-fa44-c93007bb53ba"
      },
      "execution_count": null,
      "outputs": [
        {
          "output_type": "stream",
          "name": "stdout",
          "text": [
            "\u001b[0m\u001b[01;34mgromacs\u001b[0m/       gromacs-2023.3.tar.gz    gromacs-2023.3.tar.gz.2  gromacs.tar.gz    \u001b[01;34mPolyethylene\u001b[0m/\n",
            "\u001b[01;34mgromacs-2023\u001b[0m/  gromacs-2023.3.tar.gz.1  gromacs-2023.3.tar.gz.3  gromacs.tar.gz.1  \u001b[01;34msample_data\u001b[0m/\n"
          ]
        }
      ]
    },
    {
      "cell_type": "code",
      "source": [
        "%%bash\n",
        "source /content/gromacs-2023/bin/GMXRC\n",
        "gmx mdrun -v -deffnm step4.0_minimization"
      ],
      "metadata": {
        "colab": {
          "base_uri": "https://localhost:8080/"
        },
        "id": "A7gmHQR2VwW9",
        "outputId": "d806c4cb-8c4a-4047-95cd-b17e50d3a49c"
      },
      "execution_count": null,
      "outputs": [
        {
          "output_type": "stream",
          "name": "stderr",
          "text": [
            "                      :-) GROMACS - gmx mdrun, 2023.3 (-:\n",
            "\n",
            "Executable:   /content/gromacs-2023/bin/gmx\n",
            "Data prefix:  /content/gromacs-2023\n",
            "Working dir:  /content/Polyethylene\n",
            "Command line:\n",
            "  gmx mdrun -v -deffnm step4.0_minimization\n",
            "\n",
            "\n",
            "Back Off! I just backed up step4.0_minimization.log to ./#step4.0_minimization.log.3#\n",
            "Reading file step4.0_minimization.tpr, VERSION 2023.3 (single precision)\n",
            "1 GPU selected for this run.\n",
            "Mapping of GPU IDs to the 1 GPU task in the 1 rank on this node:\n",
            "  PP:0\n",
            "PP tasks will do (non-perturbed) short-ranged interactions on the GPU\n",
            "PP task will update and constrain coordinates on the CPU\n",
            "Using 1 MPI thread\n",
            "Using 2 OpenMP threads \n",
            "\n",
            "\n",
            "Back Off! I just backed up step4.0_minimization.trr to ./#step4.0_minimization.trr.3#\n",
            "\n",
            "Back Off! I just backed up step4.0_minimization.edr to ./#step4.0_minimization.edr.3#\n",
            "\n",
            "Steepest Descents:\n",
            "   Tolerance (Fmax)   =  1.00000e+03\n",
            "   Number of steps    =         5000\n",
            "Step=    0, Dmax= 1.0e-02 nm, Epot=  1.07064e+06 Fmax= 4.50033e+03, atom= 38673\n",
            "Step=    1, Dmax= 1.0e-02 nm, Epot=  4.82226e+05 Fmax= 1.86673e+03, atom= 38667\n",
            "Step=    2, Dmax= 1.2e-02 nm, Epot=  3.64469e+05 Fmax= 4.81482e+03, atom= 38667\n",
            "Step=    3, Dmax= 1.4e-02 nm, Epot=  3.00552e+05 Fmax= 4.44057e+03, atom= 38667\n",
            "Step=    4, Dmax= 1.7e-02 nm, Epot=  2.80237e+05 Fmax= 7.29489e+03, atom= 38667\n",
            "Step=    5, Dmax= 2.1e-02 nm, Epot=  2.65293e+05 Fmax= 6.45091e+03, atom= 38667\n",
            "Step=    6, Dmax= 2.5e-02 nm, Epot=  2.67186e+05 Fmax= 1.03715e+04, atom= 38667\rStep=    7, Dmax= 1.2e-02 nm, Epot=  2.49238e+05 Fmax= 1.99796e+03, atom= 38667\n",
            "Step=    8, Dmax= 1.5e-02 nm, Epot=  2.43512e+05 Fmax= 7.72292e+03, atom= 38667\n",
            "Step=    9, Dmax= 1.8e-02 nm, Epot=  2.27375e+05 Fmax= 4.53954e+03, atom= 38667\n",
            "Step=   10, Dmax= 2.1e-02 nm, Epot=  2.48897e+05 Fmax= 9.76069e+03, atom= 38667\rStep=   11, Dmax= 1.1e-02 nm, Epot=  2.19325e+05 Fmax= 2.69842e+03, atom= 38667\n",
            "Step=   12, Dmax= 1.3e-02 nm, Epot=  2.25074e+05 Fmax= 6.21288e+03, atom= 38667\rStep=   13, Dmax= 6.4e-03 nm, Epot=  2.14167e+05 Fmax= 1.77298e+03, atom= 38667\n",
            "Step=   14, Dmax= 7.7e-03 nm, Epot=  2.12539e+05 Fmax= 3.36966e+03, atom= 38667\n",
            "Step=   15, Dmax= 9.3e-03 nm, Epot=  2.08798e+05 Fmax= 3.05570e+03, atom= 38667\n",
            "Step=   16, Dmax= 1.1e-02 nm, Epot=  2.11311e+05 Fmax= 4.44753e+03, atom= 38667\rStep=   17, Dmax= 5.6e-03 nm, Epot=  2.03033e+05 Fmax= 7.65359e+02, atom= 38670\n",
            "\n",
            "writing lowest energy coordinates.\n",
            "\n",
            "Back Off! I just backed up step4.0_minimization.gro to ./#step4.0_minimization.gro.4#\n",
            "\n",
            "Steepest Descents converged to Fmax < 1000 in 18 steps\n",
            "Potential Energy  =  2.0303269e+05\n",
            "Maximum force     =  7.6535931e+02 on atom 38670\n",
            "Norm of force     =  1.2874541e+02\n",
            "\n",
            "GROMACS reminds you: \"You fight, work, sweat, nearly kill yourself, sometimes you do kill yourself, trying to accomplish something - and you can't.\" (Joseph Conrad)\n",
            "\n"
          ]
        }
      ]
    },
    {
      "cell_type": "code",
      "source": [
        "#Set up equilibration files and next equilibrate."
      ],
      "metadata": {
        "id": "CrO19we8mNfY"
      },
      "execution_count": null,
      "outputs": []
    },
    {
      "cell_type": "code",
      "source": [
        "%%bash\n",
        "source /content/gromacs-2023/bin/GMXRC\n",
        "gmx grompp -f step4.1_equilibration.mdp -o step4.1_equilibration.tpr -c step4.0_minimization.gro -r step3_input.gro -p topol.top -n index.ndx -maxwarn 1"
      ],
      "metadata": {
        "colab": {
          "base_uri": "https://localhost:8080/"
        },
        "outputId": "d88d4046-4e10-42a1-cb27-262fa506a4b2",
        "id": "A7ib3faIib17"
      },
      "execution_count": null,
      "outputs": [
        {
          "output_type": "stream",
          "name": "stdout",
          "text": [
            "Setting the LD random seed to -1116734529\n",
            "\n",
            "Generated 10 of the 10 non-bonded parameter combinations\n",
            "\n",
            "Generated 3 of the 10 1-4 parameter combinations\n",
            "\n",
            "Excluding 3 bonded neighbours molecule type 'S1P1'\n",
            "\n",
            "turning H bonds into constraints...\n",
            "\n",
            "Setting gen_seed to -1343291601\n",
            "\n",
            "Velocities were taken from a Maxwell distribution at 400 K\n",
            "\n",
            "The largest distance between excluded atoms is 0.415 nm between atom 1207 and 1216\n",
            "\n",
            "Determining Verlet buffer for a tolerance of 0.005 kJ/mol/ps at 400 K\n",
            "\n",
            "Calculated rlist for 1x1 atom pair-list as 1.200 nm, buffer size 0.000 nm\n",
            "\n",
            "Set rlist, assuming 4x4 atom pair-list, to 1.200 nm, buffer size 0.000 nm\n",
            "\n",
            "Note that mdrun will redetermine rlist based on the actual pair-list setup\n",
            "Calculating fourier grid dimensions for X Y Z\n",
            "Using a fourier grid of 84x84x84, spacing 0.117 0.117 0.117\n",
            "\n",
            "Estimate for the relative computational load of the PME mesh part: 0.16\n",
            "\n",
            "This run will generate roughly 64 Mb of data\n"
          ]
        },
        {
          "output_type": "stream",
          "name": "stderr",
          "text": [
            "                      :-) GROMACS - gmx grompp, 2023.3 (-:\n",
            "\n",
            "Executable:   /content/gromacs-2023/bin/gmx\n",
            "Data prefix:  /content/gromacs-2023\n",
            "Working dir:  /content/Polyethylene\n",
            "Command line:\n",
            "  gmx grompp -f step4.1_equilibration.mdp -o step4.1_equilibration.tpr -c step4.0_minimization.gro -r step3_input.gro -p topol.top -n index.ndx -maxwarn 1\n",
            "\n",
            "Replacing old mdp entry 'nstxtcout' by 'nstxout-compressed'\n",
            "\n",
            "NOTE 1 [file step4.1_equilibration.mdp]:\n",
            "  leapfrog does not yet support Nose-Hoover chains, nhchainlength reset to\n",
            "  1\n",
            "\n",
            "Generating 1-4 interactions: fudge = 1\n",
            "\n",
            "WARNING 1 [file topol.top, line 20]:\n",
            "  The following macros were defined in the 'define' mdp field with the -D\n",
            "  prefix, but were not used in the topology:\n",
            "      POSRES_FC_SC\n",
            "  If you haven't made a spelling error, either use the macro you defined,\n",
            "  or don't define the macro\n",
            "\n",
            "Number of degrees of freedom in T-Coupling group SYSTEM is 185181.00\n",
            "\n",
            "NOTE 2 [file step4.1_equilibration.mdp]:\n",
            "  Removing center of mass motion in the presence of position restraints\n",
            "  might cause artifacts. When you are using position restraints to\n",
            "  equilibrate a macro-molecule, the artifacts are usually negligible.\n",
            "\n",
            "\n",
            "There were 2 NOTEs\n",
            "\n",
            "There was 1 WARNING\n",
            "\n",
            "Back Off! I just backed up step4.1_equilibration.tpr to ./#step4.1_equilibration.tpr.4#\n",
            "\n",
            "GROMACS reminds you: \"Fly to the Court of England and Unfold\" (Macbeth, Act 3, Scene 6, William Shakespeare)\n",
            "\n"
          ]
        }
      ]
    },
    {
      "cell_type": "code",
      "source": [
        "%%bash\n",
        "source /content/gromacs-2023/bin/GMXRC\n",
        "gmx mdrun -v -deffnm step4.1_equilibration"
      ],
      "metadata": {
        "id": "YFjjAGEejZBp",
        "colab": {
          "base_uri": "https://localhost:8080/"
        },
        "outputId": "2e4b063e-8d87-40b7-ba19-1b9887065e32"
      },
      "execution_count": null,
      "outputs": [
        {
          "output_type": "stream",
          "name": "stdout",
          "text": [
            "Process is terminated.\n"
          ]
        }
      ]
    },
    {
      "cell_type": "markdown",
      "source": [],
      "metadata": {
        "id": "TLzDksAakQE7"
      }
    },
    {
      "cell_type": "code",
      "source": [
        "ls"
      ],
      "metadata": {
        "id": "qopzRRJXpESy",
        "colab": {
          "base_uri": "https://localhost:8080/"
        },
        "outputId": "743c90fa-49ec-44ef-e74f-a41a1d215c09"
      },
      "execution_count": null,
      "outputs": [
        {
          "output_type": "stream",
          "name": "stdout",
          "text": [
            " index.ndx                           step4.1_equilibration.edr\n",
            " mdout.mdp                          '#step4.1_equilibration.edr.1#'\n",
            " Miniconda3-latest-Linux-x86_64.sh  '#step4.1_equilibration.edr.2#'\n",
            " Polyethylene4.ipynb                '#step4.1_equilibration.edr.3#'\n",
            " README.md                           step4.1_equilibration.log\n",
            " step3_input.gro                    '#step4.1_equilibration.log.1#'\n",
            " step4.0_minimization.edr           '#step4.1_equilibration.log.2#'\n",
            "'#step4.0_minimization.edr.1#'      '#step4.1_equilibration.log.3#'\n",
            "'#step4.0_minimization.edr.2#'       step4.1_equilibration.mdp\n",
            "'#step4.0_minimization.edr.3#'       step4.1_equilibration_prev.cpt\n",
            " step4.0_minimization.gro            step4.1_equilibration.tpr\n",
            "'#step4.0_minimization.gro.1#'      '#step4.1_equilibration.tpr.1#'\n",
            "'#step4.0_minimization.gro.2#'      '#step4.1_equilibration.tpr.2#'\n",
            "'#step4.0_minimization.gro.3#'      '#step4.1_equilibration.tpr.3#'\n",
            "'#step4.0_minimization.gro.4#'      '#step4.1_equilibration.tpr.4#'\n",
            " step4.0_minimization.log            step4.1_equilibration.trr\n",
            "'#step4.0_minimization.log.1#'      '#step4.1_equilibration.trr.1#'\n",
            "'#step4.0_minimization.log.2#'      '#step4.1_equilibration.trr.2#'\n",
            "'#step4.0_minimization.log.3#'      '#step4.1_equilibration.trr.3#'\n",
            " step4.0_minimization.mdp            step4.1_equilibration.xtc\n",
            " step4.0_minimization.tpr           '#step4.1_equilibration.xtc.1#'\n",
            "'#step4.0_minimization.tpr.1#'      '#step4.1_equilibration.xtc.2#'\n",
            "'#step4.0_minimization.tpr.2#'      '#step4.1_equilibration.xtc.3#'\n",
            " step4.0_minimization.trr            step5_1.gro\n",
            "'#step4.0_minimization.trr.1#'       step5_1.xtc\n",
            "'#step4.0_minimization.trr.2#'       step5_production.mdp\n",
            "'#step4.0_minimization.trr.3#'       topol.top\n",
            " step4.1_equilibration.cpt           \u001b[0m\u001b[01;34mtoppar\u001b[0m/\n"
          ]
        }
      ]
    },
    {
      "cell_type": "code",
      "source": [
        "import MDAnalysis as mda\n"
      ],
      "metadata": {
        "id": "kG85i3YVpwa0",
        "colab": {
          "base_uri": "https://localhost:8080/"
        },
        "outputId": "a0b86fc8-8207-47b7-97c7-1122c4445337"
      },
      "execution_count": null,
      "outputs": [
        {
          "output_type": "stream",
          "name": "stderr",
          "text": [
            "WARNING:MDAnalysis.coordinates.AMBER:netCDF4 is not available. Writing AMBER ncdf files will be slow.\n"
          ]
        }
      ]
    },
    {
      "cell_type": "code",
      "source": [
        "import matplotlib.pyplot as plt"
      ],
      "metadata": {
        "id": "fs35GO-wqqFm"
      },
      "execution_count": null,
      "outputs": []
    },
    {
      "cell_type": "code",
      "source": [
        "u = mda.Universe('step5_1.gro', 'step5_1.xtc')"
      ],
      "metadata": {
        "id": "YLb8e6ttq0eP"
      },
      "execution_count": null,
      "outputs": []
    },
    {
      "cell_type": "code",
      "source": [
        "u.trajectory"
      ],
      "metadata": {
        "id": "LAK51THWq_wB",
        "colab": {
          "base_uri": "https://localhost:8080/"
        },
        "outputId": "af6c597f-098f-4d46-dbfe-b983ade87925"
      },
      "execution_count": null,
      "outputs": [
        {
          "output_type": "execute_result",
          "data": {
            "text/plain": [
              "<XTCReader step5_1.xtc with 11 frames of 79732 atoms>"
            ]
          },
          "metadata": {},
          "execution_count": 20
        }
      ]
    },
    {
      "cell_type": "code",
      "source": [
        "polymer1 = u.atoms[0:61]"
      ],
      "metadata": {
        "id": "f4fdPNQgrGgF"
      },
      "execution_count": null,
      "outputs": []
    },
    {
      "cell_type": "code",
      "source": [
        "for ts in u.trajectory[1:11]:\n",
        "    rad = polymer1.radius_of_gyration()\n",
        "    print('frame={}: radgyr={}'.format(ts.frame, rad))"
      ],
      "metadata": {
        "id": "p8P0J5JerO4x",
        "colab": {
          "base_uri": "https://localhost:8080/"
        },
        "outputId": "c060f7dc-92b4-454d-eb53-c4bd93b19883"
      },
      "execution_count": null,
      "outputs": [
        {
          "output_type": "stream",
          "name": "stdout",
          "text": [
            "frame=1: radgyr=5.645861593919043\n",
            "frame=2: radgyr=6.528878446957649\n",
            "frame=3: radgyr=6.081913138493525\n",
            "frame=4: radgyr=5.360171465189721\n",
            "frame=5: radgyr=6.39860955441472\n",
            "frame=6: radgyr=5.736803093499313\n",
            "frame=7: radgyr=6.455351394738376\n",
            "frame=8: radgyr=6.365853051189608\n",
            "frame=9: radgyr=6.037873940452978\n",
            "frame=10: radgyr=6.456148325297439\n"
          ]
        }
      ]
    },
    {
      "cell_type": "code",
      "source": [
        "rgyr = []\n",
        "time = []\n",
        "polymer1 = u.atoms[0:61]\n",
        "for ts in u.trajectory:\n",
        "    time.append(u.trajectory.time)\n",
        "    rgyr.append(polymer1.radius_of_gyration())"
      ],
      "metadata": {
        "id": "EDfiNcY0sDtU"
      },
      "execution_count": null,
      "outputs": []
    },
    {
      "cell_type": "code",
      "source": [
        "import pandas as pd\n",
        "rgyr_df = pd.DataFrame(rgyr, columns=['Radius of gyration (A)'], index=time)\n",
        "rgyr_df.index.name = 'Time (ps)'\n"
      ],
      "metadata": {
        "id": "hdQ_4xrvsHd0"
      },
      "execution_count": null,
      "outputs": []
    },
    {
      "cell_type": "code",
      "source": [
        "%matplotlib inline\n",
        "\n",
        "rgyr_df.plot(title='Radius of gyration')"
      ],
      "metadata": {
        "id": "pJnaoCLCsLyI",
        "colab": {
          "base_uri": "https://localhost:8080/",
          "height": 489
        },
        "outputId": "b428a367-c0a5-4d29-f966-230112abcd99"
      },
      "execution_count": null,
      "outputs": [
        {
          "output_type": "execute_result",
          "data": {
            "text/plain": [
              "<Axes: title={'center': 'Radius of gyration'}, xlabel='Time (ps)'>"
            ]
          },
          "metadata": {},
          "execution_count": 25
        },
        {
          "output_type": "display_data",
          "data": {
            "text/plain": [
              "<Figure size 640x480 with 1 Axes>"
            ],
            "image/png": "[encoded data removed]"
          },
          "metadata": {}
        }
      ]
    },
    {
      "cell_type": "markdown",
      "source": [
        "Try averaging over all chains.  In order to work need tpr file instead."
      ],
      "metadata": {
        "id": "trBZkpGHymSm"
      }
    },
    {
      "cell_type": "markdown",
      "source": [
        "Mean squared displacement."
      ],
      "metadata": {
        "id": "bMYgXfIF0JE8"
      }
    },
    {
      "cell_type": "code",
      "source": [
        "import MDAnalysis.analysis.msd as msd"
      ],
      "metadata": {
        "id": "N5Eu7A5j3-HL"
      },
      "execution_count": null,
      "outputs": []
    },
    {
      "cell_type": "code",
      "source": [
        "MSD = msd.EinsteinMSD(u, select='all', msd_type='xyz', fft=False)"
      ],
      "metadata": {
        "id": "GMqcg0DC42dn"
      },
      "execution_count": null,
      "outputs": []
    },
    {
      "cell_type": "code",
      "source": [
        "MSD.run()"
      ],
      "metadata": {
        "id": "cVFTC5BY5OHm",
        "colab": {
          "base_uri": "https://localhost:8080/"
        },
        "outputId": "0b1ab9ac-76ab-47c0-9b37-6770ad4e2a6e"
      },
      "execution_count": null,
      "outputs": [
        {
          "output_type": "stream",
          "name": "stderr",
          "text": [
            "100%|██████████| 10/10 [00:00<00:00, 58.78it/s]\n"
          ]
        },
        {
          "output_type": "execute_result",
          "data": {
            "text/plain": [
              "<MDAnalysis.analysis.msd.EinsteinMSD at 0x7b38188db6a0>"
            ]
          },
          "metadata": {},
          "execution_count": 28
        }
      ]
    },
    {
      "cell_type": "code",
      "source": [
        "msd =  MSD.results.timeseries"
      ],
      "metadata": {
        "id": "Zt-CpciG-epy"
      },
      "execution_count": null,
      "outputs": []
    },
    {
      "cell_type": "code",
      "source": [
        "import numpy as np\n",
        "nframes = MSD.n_frames\n",
        "timestep = 1 # this needs to be the actual time between frames\n",
        "lagtimes = np.arange(nframes)*timestep # make the lag-time axis\n",
        "\n",
        "# find the min and max of the positions\n",
        "# if the trajectory is wrapped, these will all be inside the primary box\n",
        "print(np.max(MSD._position_array, axis=1))\n",
        "print(np.min(MSD._position_array, axis=1))\n",
        "\n",
        "\n",
        "#Plot the actual MSD\n",
        "plt.xlabel('Time (ps)')\n",
        "plt.ylabel('MSD')\n",
        "plt.title('MSD')\n",
        "plt.plot(lagtimes,MSD.results.timeseries)\n",
        "plt.show()\n"
      ],
      "metadata": {
        "id": "jLvAnS3r57aW",
        "colab": {
          "base_uri": "https://localhost:8080/",
          "height": 846
        },
        "outputId": "493b4d19-d746-424c-ffcd-664ecad446c0"
      },
      "execution_count": null,
      "outputs": [
        {
          "output_type": "stream",
          "name": "stdout",
          "text": [
            "[[98.61000061 98.61000061 98.61000061]\n",
            " [91.58000183 91.58000183 91.58000183]\n",
            " [91.93000793 91.93000793 91.93000793]\n",
            " [91.69000244 91.69000244 91.69000244]\n",
            " [91.71000671 91.71000671 91.71000671]\n",
            " [91.76000977 91.76000977 91.76000977]\n",
            " [91.86000824 91.86000824 91.86000824]\n",
            " [91.71000671 91.69999695 91.71000671]\n",
            " [91.76000977 91.76000977 91.76000977]\n",
            " [91.63000488 91.63000488 91.63000488]\n",
            " [91.71000671 91.71000671 91.69999695]]\n",
            "[[0. 0. 0.]\n",
            " [0. 0. 0.]\n",
            " [0. 0. 0.]\n",
            " [0. 0. 0.]\n",
            " [0. 0. 0.]\n",
            " [0. 0. 0.]\n",
            " [0. 0. 0.]\n",
            " [0. 0. 0.]\n",
            " [0. 0. 0.]\n",
            " [0. 0. 0.]\n",
            " [0. 0. 0.]]\n"
          ]
        },
        {
          "output_type": "display_data",
          "data": {
            "text/plain": [
              "<Figure size 640x480 with 1 Axes>"
            ],
            "image/png": "[encoded data removed]"
          },
          "metadata": {}
        }
      ]
    }
  ]
}