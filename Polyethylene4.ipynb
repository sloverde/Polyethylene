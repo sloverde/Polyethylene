{
  "nbformat": 4,
  "nbformat_minor": 0,
  "metadata": {
    "colab": {
      "provenance": [],
      "collapsed_sections": [],
      "history_visible": true,
      "authorship_tag": "ABX9TyNfED03cZ7ZlFeaBnSrueYc",
      "include_colab_link": true
    },
    "kernelspec": {
      "name": "python3",
      "display_name": "Python 3"
    },
    "language_info": {
      "name": "python"
    },
    "accelerator": "GPU",
    "gpuClass": "standard"
  },
  "cells": [
    {
      "cell_type": "markdown",
      "metadata": {
        "id": "view-in-github",
        "colab_type": "text"
      },
      "source": [
        "<a href=\"https://colab.research.google.com/github/sloverde/Polyethylene/blob/main/Polyethylene4.ipynb\" target=\"_parent\"><img src=\"https://colab.research.google.com/assets/colab-badge.svg\" alt=\"Open In Colab\"/></a>"
      ]
    },
    {
      "cell_type": "markdown",
      "source": [
        "Test notebook to run gromacs and perform a simulation of a polyethylene melt.  System setup was done using Charmm-gui.\n",
        "\n",
        "https://www.charmm-gui.org/\n",
        "\n",
        "If you wish to visualize the results of your simulations you will need to separately download and install VMD on your machine: https://www.ks.uiuc.edu/Development/Download/download.cgi?PackageName=VMD"
      ],
      "metadata": {
        "id": "Rjw7X9RkI42V"
      }
    },
    {
      "cell_type": "markdown",
      "source": [
        "First download gromacs which is open source molecular simulation software."
      ],
      "metadata": {
        "id": "NfunERFA2L9q"
      }
    },
    {
      "cell_type": "code",
      "metadata": {
        "id": "hLoWxW4grDM4",
        "colab": {
          "base_uri": "https://localhost:8080/"
        },
        "outputId": "00ef227d-9a2c-4861-f346-df97dd17861b"
      },
      "source": [
        "# Download and unzip the compressed folder of GROMACS 2020.6 version\n",
        "!wget https://raw.githubusercontent.com/pb3lab/ibm3202/master/software/gromacs.tar.gz\n",
        "!tar xzf gromacs.tar.gz"
      ],
      "execution_count": null,
      "outputs": [
        {
          "output_type": "stream",
          "name": "stdout",
          "text": [
            "--2022-10-28 17:30:44--  https://raw.githubusercontent.com/pb3lab/ibm3202/master/software/gromacs.tar.gz\n",
            "Resolving raw.githubusercontent.com (raw.githubusercontent.com)... 185.199.108.133, 185.199.109.133, 185.199.110.133, ...\n",
            "Connecting to raw.githubusercontent.com (raw.githubusercontent.com)|185.199.108.133|:443... connected.\n",
            "HTTP request sent, awaiting response... 200 OK\n",
            "Length: 35608971 (34M) [application/octet-stream]\n",
            "Saving to: ‘gromacs.tar.gz’\n",
            "\n",
            "gromacs.tar.gz      100%[===================>]  33.96M  --.-KB/s    in 0.1s    \n",
            "\n",
            "2022-10-28 17:30:44 (330 MB/s) - ‘gromacs.tar.gz’ saved [35608971/35608971]\n",
            "\n"
          ]
        }
      ]
    },
    {
      "cell_type": "code",
      "source": [
        "ls"
      ],
      "metadata": {
        "colab": {
          "base_uri": "https://localhost:8080/"
        },
        "id": "NyvxYV-b3CqJ",
        "outputId": "2e65dac4-5614-49f1-bb29-a2b19bf62606"
      },
      "execution_count": null,
      "outputs": [
        {
          "output_type": "stream",
          "name": "stdout",
          "text": [
            "\u001b[0m\u001b[01;34mgromacs\u001b[0m/  gromacs.tar.gz  \u001b[01;34msample_data\u001b[0m/\n"
          ]
        }
      ]
    },
    {
      "cell_type": "markdown",
      "source": [
        "Clone Prof. Loverde's github repository with respective files."
      ],
      "metadata": {
        "id": "7mc3DwSCG5Yf"
      }
    },
    {
      "cell_type": "code",
      "source": [
        "!git clone https://github.com/sloverde/Polyethylene.git"
      ],
      "metadata": {
        "colab": {
          "base_uri": "https://localhost:8080/"
        },
        "id": "p_A-cAp9FWqC",
        "outputId": "230f109f-8ede-401d-a0be-e97fcf9fa32e"
      },
      "execution_count": null,
      "outputs": [
        {
          "output_type": "stream",
          "name": "stdout",
          "text": [
            "Cloning into 'Polyethylene'...\n",
            "remote: Enumerating objects: 42, done.\u001b[K\n",
            "remote: Counting objects: 100% (42/42), done.\u001b[K\n",
            "remote: Compressing objects: 100% (37/37), done.\u001b[K\n",
            "remote: Total 42 (delta 12), reused 0 (delta 0), pack-reused 0\u001b[K\n",
            "Unpacking objects: 100% (42/42), done.\n"
          ]
        }
      ]
    },
    {
      "cell_type": "code",
      "source": [
        "ls"
      ],
      "metadata": {
        "colab": {
          "base_uri": "https://localhost:8080/"
        },
        "id": "YYiCoAXiFolP",
        "outputId": "2e1ee81f-5c8b-4766-b2b6-aad944ccbf20"
      },
      "execution_count": null,
      "outputs": [
        {
          "output_type": "stream",
          "name": "stdout",
          "text": [
            "\u001b[0m\u001b[01;34mgromacs\u001b[0m/  gromacs.tar.gz  \u001b[01;34mPolyethylene\u001b[0m/  \u001b[01;34msample_data\u001b[0m/\n"
          ]
        }
      ]
    },
    {
      "cell_type": "markdown",
      "source": [
        "Source Gromacs and make sure it runs."
      ],
      "metadata": {
        "id": "zmWwmfNfG9pc"
      }
    },
    {
      "cell_type": "code",
      "source": [
        "%%bash\n",
        "source /content/gromacs/bin/GMXRC\n",
        "gmx -h"
      ],
      "metadata": {
        "colab": {
          "base_uri": "https://localhost:8080/"
        },
        "id": "5yNkMohZGovE",
        "outputId": "ca46d009-8fe3-4f2e-aed8-715192ec8f32"
      },
      "execution_count": null,
      "outputs": [
        {
          "output_type": "stream",
          "name": "stdout",
          "text": [
            "SYNOPSIS\n",
            "\n",
            "gmx [-[no]h] [-[no]quiet] [-[no]version] [-[no]copyright] [-nice <int>]\n",
            "    [-[no]backup]\n",
            "\n",
            "OPTIONS\n",
            "\n",
            "Other options:\n",
            "\n",
            " -[no]h                     (no)\n",
            "           Print help and quit\n",
            " -[no]quiet                 (no)\n",
            "           Do not print common startup info or quotes\n",
            " -[no]version               (no)\n",
            "           Print extended version information and quit\n",
            " -[no]copyright             (yes)\n",
            "           Print copyright information on startup\n",
            " -nice   <int>              (19)\n",
            "           Set the nicelevel (default depends on command)\n",
            " -[no]backup                (yes)\n",
            "           Write backups if output files exist\n",
            "\n",
            "Additional help is available on the following topics:\n",
            "    commands    List of available commands\n",
            "    selections  Selection syntax and usage\n",
            "To access the help, use 'gmx help <topic>'.\n",
            "For help on a command, use 'gmx help <command>'.\n"
          ]
        },
        {
          "output_type": "stream",
          "name": "stderr",
          "text": [
            "                         :-) GROMACS - gmx, 2020.6 (-:\n",
            "\n",
            "                            GROMACS is written by:\n",
            "     Emile Apol      Rossen Apostolov      Paul Bauer     Herman J.C. Berendsen\n",
            "    Par Bjelkmar      Christian Blau   Viacheslav Bolnykh     Kevin Boyd    \n",
            " Aldert van Buuren   Rudi van Drunen     Anton Feenstra       Alan Gray     \n",
            "  Gerrit Groenhof     Anca Hamuraru    Vincent Hindriksen  M. Eric Irrgang  \n",
            "  Aleksei Iupinov   Christoph Junghans     Joe Jordan     Dimitrios Karkoulis\n",
            "    Peter Kasson        Jiri Kraus      Carsten Kutzner      Per Larsson    \n",
            "  Justin A. Lemkul    Viveca Lindahl    Magnus Lundborg     Erik Marklund   \n",
            "    Pascal Merz     Pieter Meulenhoff    Teemu Murtola       Szilard Pall   \n",
            "    Sander Pronk      Roland Schulz      Michael Shirts    Alexey Shvetsov  \n",
            "   Alfons Sijbers     Peter Tieleman      Jon Vincent      Teemu Virolainen \n",
            " Christian Wennberg    Maarten Wolf      Artem Zhmurov   \n",
            "                           and the project leaders:\n",
            "        Mark Abraham, Berk Hess, Erik Lindahl, and David van der Spoel\n",
            "\n",
            "Copyright (c) 1991-2000, University of Groningen, The Netherlands.\n",
            "Copyright (c) 2001-2019, The GROMACS development team at\n",
            "Uppsala University, Stockholm University and\n",
            "the Royal Institute of Technology, Sweden.\n",
            "check out http://www.gromacs.org for more information.\n",
            "\n",
            "GROMACS is free software; you can redistribute it and/or modify it\n",
            "under the terms of the GNU Lesser General Public License\n",
            "as published by the Free Software Foundation; either version 2.1\n",
            "of the License, or (at your option) any later version.\n",
            "\n",
            "GROMACS:      gmx, version 2020.6\n",
            "Executable:   /content/gromacs/bin/gmx\n",
            "Data prefix:  /content/gromacs\n",
            "Working dir:  /content\n",
            "Command line:\n",
            "  gmx -h\n",
            "\n",
            "\n",
            "GROMACS reminds you: \"Do the Dog On the Ground\" (Red Hot Chili Peppers)\n",
            "\n"
          ]
        }
      ]
    },
    {
      "cell_type": "code",
      "source": [
        "cd Polyethylene/\n"
      ],
      "metadata": {
        "colab": {
          "base_uri": "https://localhost:8080/"
        },
        "id": "eloudpnPHmZf",
        "outputId": "39c9953b-a892-43c6-ef44-0010bc7d2c8a"
      },
      "execution_count": null,
      "outputs": [
        {
          "output_type": "stream",
          "name": "stdout",
          "text": [
            "/content/Polyethylene\n"
          ]
        }
      ]
    },
    {
      "cell_type": "markdown",
      "source": [
        "Set up the minimization files and next minimize."
      ],
      "metadata": {
        "id": "BlwTutXEmG8B"
      }
    },
    {
      "cell_type": "code",
      "source": [
        "%%bash\n",
        "source /content/gromacs/bin/GMXRC\n",
        "gmx grompp -f step4.0_minimization.mdp -o step4.0_minimization.tpr -c step3_input.gro -r step3_input.gro -p topol.top -n index.ndx -maxwarn -1"
      ],
      "metadata": {
        "colab": {
          "base_uri": "https://localhost:8080/"
        },
        "id": "pDmoLou_RJ4g",
        "outputId": "3e0a4ab2-cc52-4834-8598-26c1293087b1"
      },
      "execution_count": null,
      "outputs": [
        {
          "output_type": "stream",
          "name": "stdout",
          "text": [
            "turning H bonds into constraints...\n",
            "Calculating fourier grid dimensions for X Y Z\n",
            "Using a fourier grid of 84x84x84, spacing 0.117 0.117 0.117\n",
            "This run will generate roughly 6 Mb of data\n"
          ]
        },
        {
          "output_type": "stream",
          "name": "stderr",
          "text": [
            "                      :-) GROMACS - gmx grompp, 2020.6 (-:\n",
            "\n",
            "                            GROMACS is written by:\n",
            "     Emile Apol      Rossen Apostolov      Paul Bauer     Herman J.C. Berendsen\n",
            "    Par Bjelkmar      Christian Blau   Viacheslav Bolnykh     Kevin Boyd    \n",
            " Aldert van Buuren   Rudi van Drunen     Anton Feenstra       Alan Gray     \n",
            "  Gerrit Groenhof     Anca Hamuraru    Vincent Hindriksen  M. Eric Irrgang  \n",
            "  Aleksei Iupinov   Christoph Junghans     Joe Jordan     Dimitrios Karkoulis\n",
            "    Peter Kasson        Jiri Kraus      Carsten Kutzner      Per Larsson    \n",
            "  Justin A. Lemkul    Viveca Lindahl    Magnus Lundborg     Erik Marklund   \n",
            "    Pascal Merz     Pieter Meulenhoff    Teemu Murtola       Szilard Pall   \n",
            "    Sander Pronk      Roland Schulz      Michael Shirts    Alexey Shvetsov  \n",
            "   Alfons Sijbers     Peter Tieleman      Jon Vincent      Teemu Virolainen \n",
            " Christian Wennberg    Maarten Wolf      Artem Zhmurov   \n",
            "                           and the project leaders:\n",
            "        Mark Abraham, Berk Hess, Erik Lindahl, and David van der Spoel\n",
            "\n",
            "Copyright (c) 1991-2000, University of Groningen, The Netherlands.\n",
            "Copyright (c) 2001-2019, The GROMACS development team at\n",
            "Uppsala University, Stockholm University and\n",
            "the Royal Institute of Technology, Sweden.\n",
            "check out http://www.gromacs.org for more information.\n",
            "\n",
            "GROMACS is free software; you can redistribute it and/or modify it\n",
            "under the terms of the GNU Lesser General Public License\n",
            "as published by the Free Software Foundation; either version 2.1\n",
            "of the License, or (at your option) any later version.\n",
            "\n",
            "GROMACS:      gmx grompp, version 2020.6\n",
            "Executable:   /content/gromacs/bin/gmx\n",
            "Data prefix:  /content/gromacs\n",
            "Working dir:  /content/Polyethylene\n",
            "Command line:\n",
            "  gmx grompp -f step4.0_minimization.mdp -o step4.0_minimization.tpr -c step3_input.gro -r step3_input.gro -p topol.top -n index.ndx -maxwarn -1\n",
            "\n",
            "Setting the LD random seed to -65711\n",
            "Generated 10 of the 10 non-bonded parameter combinations\n",
            "Generating 1-4 interactions: fudge = 1\n",
            "Generated 3 of the 10 1-4 parameter combinations\n",
            "Excluding 3 bonded neighbours molecule type 'S1P1'\n",
            "\n",
            "WARNING 1 [file topol.top, line 20]:\n",
            "  The following macros were defined in the 'define' mdp field with the -D\n",
            "  prefix, but were not used in the topology:\n",
            "      POSRES_FC_SC\n",
            "  If you haven't made a spelling error, either use the macro you defined,\n",
            "  or don't define the macro\n",
            "\n",
            "Number of degrees of freedom in T-Coupling group rest is 185181.00\n",
            "\n",
            "NOTE 1 [file step4.0_minimization.mdp]:\n",
            "  Removing center of mass motion in the presence of position restraints\n",
            "  might cause artifacts. When you are using position restraints to\n",
            "  equilibrate a macro-molecule, the artifacts are usually negligible.\n",
            "\n",
            "Estimate for the relative computational load of the PME mesh part: 0.15\n",
            "\n",
            "There was 1 note\n",
            "\n",
            "There was 1 warning\n",
            "\n",
            "GROMACS reminds you: \"You Will Be Surprised At What Resides In Your Inside\" (Arrested Development)\n",
            "\n"
          ]
        }
      ]
    },
    {
      "cell_type": "code",
      "source": [
        "%%bash\n",
        "source /content/gromacs/bin/GMXRC\n",
        "gmx mdrun -v -deffnm step4.0_minimization"
      ],
      "metadata": {
        "colab": {
          "base_uri": "https://localhost:8080/"
        },
        "id": "A7gmHQR2VwW9",
        "outputId": "0e25fdf5-0225-4eb8-c5d8-df074725ce35"
      },
      "execution_count": null,
      "outputs": [
        {
          "output_type": "stream",
          "name": "stderr",
          "text": [
            "                      :-) GROMACS - gmx mdrun, 2020.6 (-:\n",
            "\n",
            "                            GROMACS is written by:\n",
            "     Emile Apol      Rossen Apostolov      Paul Bauer     Herman J.C. Berendsen\n",
            "    Par Bjelkmar      Christian Blau   Viacheslav Bolnykh     Kevin Boyd    \n",
            " Aldert van Buuren   Rudi van Drunen     Anton Feenstra       Alan Gray     \n",
            "  Gerrit Groenhof     Anca Hamuraru    Vincent Hindriksen  M. Eric Irrgang  \n",
            "  Aleksei Iupinov   Christoph Junghans     Joe Jordan     Dimitrios Karkoulis\n",
            "    Peter Kasson        Jiri Kraus      Carsten Kutzner      Per Larsson    \n",
            "  Justin A. Lemkul    Viveca Lindahl    Magnus Lundborg     Erik Marklund   \n",
            "    Pascal Merz     Pieter Meulenhoff    Teemu Murtola       Szilard Pall   \n",
            "    Sander Pronk      Roland Schulz      Michael Shirts    Alexey Shvetsov  \n",
            "   Alfons Sijbers     Peter Tieleman      Jon Vincent      Teemu Virolainen \n",
            " Christian Wennberg    Maarten Wolf      Artem Zhmurov   \n",
            "                           and the project leaders:\n",
            "        Mark Abraham, Berk Hess, Erik Lindahl, and David van der Spoel\n",
            "\n",
            "Copyright (c) 1991-2000, University of Groningen, The Netherlands.\n",
            "Copyright (c) 2001-2019, The GROMACS development team at\n",
            "Uppsala University, Stockholm University and\n",
            "the Royal Institute of Technology, Sweden.\n",
            "check out http://www.gromacs.org for more information.\n",
            "\n",
            "GROMACS is free software; you can redistribute it and/or modify it\n",
            "under the terms of the GNU Lesser General Public License\n",
            "as published by the Free Software Foundation; either version 2.1\n",
            "of the License, or (at your option) any later version.\n",
            "\n",
            "GROMACS:      gmx mdrun, version 2020.6\n",
            "Executable:   /content/gromacs/bin/gmx\n",
            "Data prefix:  /content/gromacs\n",
            "Working dir:  /content/Polyethylene\n",
            "Command line:\n",
            "  gmx mdrun -v -deffnm step4.0_minimization\n",
            "\n",
            "\n",
            "Back Off! I just backed up step4.0_minimization.log to ./#step4.0_minimization.log.1#\n",
            "Compiled SIMD: AVX2_256, but for this host/run AVX_512 might be better (see\n",
            "log).\n",
            "Reading file step4.0_minimization.tpr, VERSION 2020.6 (single precision)\n",
            "1 GPU selected for this run.\n",
            "Mapping of GPU IDs to the 1 GPU task in the 1 rank on this node:\n",
            "  PP:0\n",
            "PP tasks will do (non-perturbed) short-ranged interactions on the GPU\n",
            "PP task will update and constrain coordinates on the CPU\n",
            "Using 1 MPI thread\n",
            "\n",
            "Non-default thread affinity set, disabling internal thread affinity\n",
            "\n",
            "Using 2 OpenMP threads \n",
            "\n",
            "\n",
            "Back Off! I just backed up step4.0_minimization.trr to ./#step4.0_minimization.trr.1#\n",
            "\n",
            "Back Off! I just backed up step4.0_minimization.edr to ./#step4.0_minimization.edr.1#\n",
            "\n",
            "Steepest Descents:\n",
            "   Tolerance (Fmax)   =  1.00000e+03\n",
            "   Number of steps    =         5000\n",
            "Step=    0, Dmax= 1.0e-02 nm, Epot=  1.07064e+06 Fmax= 4.50033e+03, atom= 38673\n",
            "Step=    1, Dmax= 1.0e-02 nm, Epot=  4.82226e+05 Fmax= 1.86673e+03, atom= 38667\n",
            "Step=    2, Dmax= 1.2e-02 nm, Epot=  3.64469e+05 Fmax= 4.81482e+03, atom= 38667\n",
            "Step=    3, Dmax= 1.4e-02 nm, Epot=  3.00552e+05 Fmax= 4.44057e+03, atom= 38667\n",
            "Step=    4, Dmax= 1.7e-02 nm, Epot=  2.80237e+05 Fmax= 7.29489e+03, atom= 38667\n",
            "Step=    5, Dmax= 2.1e-02 nm, Epot=  2.65293e+05 Fmax= 6.45091e+03, atom= 38667\n",
            "Step=    6, Dmax= 2.5e-02 nm, Epot=  2.67186e+05 Fmax= 1.03715e+04, atom= 38667\rStep=    7, Dmax= 1.2e-02 nm, Epot=  2.49238e+05 Fmax= 1.99796e+03, atom= 38667\n",
            "Step=    8, Dmax= 1.5e-02 nm, Epot=  2.43512e+05 Fmax= 7.72292e+03, atom= 38667\n",
            "Step=    9, Dmax= 1.8e-02 nm, Epot=  2.27375e+05 Fmax= 4.53954e+03, atom= 38667\n",
            "Step=   10, Dmax= 2.1e-02 nm, Epot=  2.48897e+05 Fmax= 9.76069e+03, atom= 38667\rStep=   11, Dmax= 1.1e-02 nm, Epot=  2.19325e+05 Fmax= 2.69842e+03, atom= 38667\n",
            "Step=   12, Dmax= 1.3e-02 nm, Epot=  2.25074e+05 Fmax= 6.21288e+03, atom= 38667\rStep=   13, Dmax= 6.4e-03 nm, Epot=  2.14167e+05 Fmax= 1.77298e+03, atom= 38667\n",
            "Step=   14, Dmax= 7.7e-03 nm, Epot=  2.12539e+05 Fmax= 3.36966e+03, atom= 38667\n",
            "Step=   15, Dmax= 9.3e-03 nm, Epot=  2.08798e+05 Fmax= 3.05570e+03, atom= 38667\n",
            "Step=   16, Dmax= 1.1e-02 nm, Epot=  2.11311e+05 Fmax= 4.44753e+03, atom= 38667\rStep=   17, Dmax= 5.6e-03 nm, Epot=  2.03032e+05 Fmax= 7.65359e+02, atom= 38670\n",
            "\n",
            "writing lowest energy coordinates.\n",
            "\n",
            "Back Off! I just backed up step4.0_minimization.gro to ./#step4.0_minimization.gro.2#\n",
            "\n",
            "Steepest Descents converged to Fmax < 1000 in 18 steps\n",
            "Potential Energy  =  2.0303250e+05\n",
            "Maximum force     =  7.6535938e+02 on atom 38670\n",
            "Norm of force     =  1.2874552e+02\n",
            "\n",
            "GROMACS reminds you: \"What's Your Definition Of Dirty ?\" (G. Michael)\n",
            "\n"
          ]
        }
      ]
    },
    {
      "cell_type": "code",
      "source": [
        "Set up equilibration files and next equilibrate."
      ],
      "metadata": {
        "id": "CrO19we8mNfY"
      },
      "execution_count": null,
      "outputs": []
    },
    {
      "cell_type": "code",
      "source": [
        "%%bash\n",
        "source /content/gromacs/bin/GMXRC\n",
        "gmx grompp -f step4.1_equilibration.mdp -o step4.1_equilibration.tpr -c step4.0_minimization.gro -r step3_input.gro -p topol.top -n index.ndx -maxwarn -1"
      ],
      "metadata": {
        "colab": {
          "base_uri": "https://localhost:8080/"
        },
        "outputId": "266fe07b-8fe8-48d4-987c-c07b1f0f2916",
        "id": "A7ib3faIib17"
      },
      "execution_count": null,
      "outputs": [
        {
          "output_type": "stream",
          "name": "stdout",
          "text": [
            "turning H bonds into constraints...\n",
            "Determining Verlet buffer for a tolerance of 0.005 kJ/mol/ps at 400 K\n",
            "Calculated rlist for 1x1 atom pair-list as 1.200 nm, buffer size 0.000 nm\n",
            "Set rlist, assuming 4x4 atom pair-list, to 1.200 nm, buffer size 0.000 nm\n",
            "Note that mdrun will redetermine rlist based on the actual pair-list setup\n",
            "Calculating fourier grid dimensions for X Y Z\n",
            "Using a fourier grid of 84x84x84, spacing 0.117 0.117 0.117\n",
            "This run will generate roughly 64 Mb of data\n"
          ]
        },
        {
          "output_type": "stream",
          "name": "stderr",
          "text": [
            "                      :-) GROMACS - gmx grompp, 2020.6 (-:\n",
            "\n",
            "                            GROMACS is written by:\n",
            "     Emile Apol      Rossen Apostolov      Paul Bauer     Herman J.C. Berendsen\n",
            "    Par Bjelkmar      Christian Blau   Viacheslav Bolnykh     Kevin Boyd    \n",
            " Aldert van Buuren   Rudi van Drunen     Anton Feenstra       Alan Gray     \n",
            "  Gerrit Groenhof     Anca Hamuraru    Vincent Hindriksen  M. Eric Irrgang  \n",
            "  Aleksei Iupinov   Christoph Junghans     Joe Jordan     Dimitrios Karkoulis\n",
            "    Peter Kasson        Jiri Kraus      Carsten Kutzner      Per Larsson    \n",
            "  Justin A. Lemkul    Viveca Lindahl    Magnus Lundborg     Erik Marklund   \n",
            "    Pascal Merz     Pieter Meulenhoff    Teemu Murtola       Szilard Pall   \n",
            "    Sander Pronk      Roland Schulz      Michael Shirts    Alexey Shvetsov  \n",
            "   Alfons Sijbers     Peter Tieleman      Jon Vincent      Teemu Virolainen \n",
            " Christian Wennberg    Maarten Wolf      Artem Zhmurov   \n",
            "                           and the project leaders:\n",
            "        Mark Abraham, Berk Hess, Erik Lindahl, and David van der Spoel\n",
            "\n",
            "Copyright (c) 1991-2000, University of Groningen, The Netherlands.\n",
            "Copyright (c) 2001-2019, The GROMACS development team at\n",
            "Uppsala University, Stockholm University and\n",
            "the Royal Institute of Technology, Sweden.\n",
            "check out http://www.gromacs.org for more information.\n",
            "\n",
            "GROMACS is free software; you can redistribute it and/or modify it\n",
            "under the terms of the GNU Lesser General Public License\n",
            "as published by the Free Software Foundation; either version 2.1\n",
            "of the License, or (at your option) any later version.\n",
            "\n",
            "GROMACS:      gmx grompp, version 2020.6\n",
            "Executable:   /content/gromacs/bin/gmx\n",
            "Data prefix:  /content/gromacs\n",
            "Working dir:  /content/Polyethylene\n",
            "Command line:\n",
            "  gmx grompp -f step4.1_equilibration.mdp -o step4.1_equilibration.tpr -c step4.0_minimization.gro -r step3_input.gro -p topol.top -n index.ndx -maxwarn -1\n",
            "\n",
            "Replacing old mdp entry 'nstxtcout' by 'nstxout-compressed'\n",
            "\n",
            "NOTE 1 [file step4.1_equilibration.mdp]:\n",
            "  leapfrog does not yet support Nose-Hoover chains, nhchainlength reset to 1\n",
            "\n",
            "Setting the LD random seed to 1072265211\n",
            "Generated 10 of the 10 non-bonded parameter combinations\n",
            "Generating 1-4 interactions: fudge = 1\n",
            "Generated 3 of the 10 1-4 parameter combinations\n",
            "Excluding 3 bonded neighbours molecule type 'S1P1'\n",
            "\n",
            "WARNING 1 [file topol.top, line 20]:\n",
            "  The following macros were defined in the 'define' mdp field with the -D\n",
            "  prefix, but were not used in the topology:\n",
            "      POSRES_FC_SC\n",
            "  If you haven't made a spelling error, either use the macro you defined,\n",
            "  or don't define the macro\n",
            "\n",
            "Setting gen_seed to 871781759\n",
            "Velocities were taken from a Maxwell distribution at 400 K\n",
            "Number of degrees of freedom in T-Coupling group SYSTEM is 185181.00\n",
            "\n",
            "NOTE 2 [file step4.1_equilibration.mdp]:\n",
            "  Removing center of mass motion in the presence of position restraints\n",
            "  might cause artifacts. When you are using position restraints to\n",
            "  equilibrate a macro-molecule, the artifacts are usually negligible.\n",
            "\n",
            "Estimate for the relative computational load of the PME mesh part: 0.16\n",
            "\n",
            "There were 2 notes\n",
            "\n",
            "There was 1 warning\n",
            "\n",
            "Back Off! I just backed up step4.1_equilibration.tpr to ./#step4.1_equilibration.tpr.1#\n",
            "\n",
            "GROMACS reminds you: \"Breaking the Law, Breaking the Law\" (Judas Priest)\n",
            "\n"
          ]
        }
      ]
    },
    {
      "cell_type": "code",
      "source": [
        "%%bash\n",
        "source /content/gromacs/bin/GMXRC\n",
        "gmx mdrun -v -deffnm step4.1_equilibration"
      ],
      "metadata": {
        "colab": {
          "base_uri": "https://localhost:8080/"
        },
        "outputId": "44423597-6844-47d9-83aa-d657454971e0",
        "id": "YFjjAGEejZBp"
      },
      "execution_count": null,
      "outputs": [
        {
          "output_type": "stream",
          "name": "stdout",
          "text": [
            "Process is terminated.\n"
          ]
        }
      ]
    },
    {
      "cell_type": "markdown",
      "source": [],
      "metadata": {
        "id": "TLzDksAakQE7"
      }
    },
    {
      "cell_type": "code",
      "source": [
        "ls"
      ],
      "metadata": {
        "id": "qopzRRJXpESy",
        "outputId": "3da1db46-f5f6-495d-8187-dcd05b60555e",
        "colab": {
          "base_uri": "https://localhost:8080/"
        }
      },
      "execution_count": null,
      "outputs": [
        {
          "output_type": "stream",
          "name": "stdout",
          "text": [
            "index.ndx        step4.0_minimization.gro   step5_1.gro           topol.top\n",
            "README.md        step4.0_minimization.mdp   step5_1.xtc           \u001b[0m\u001b[01;34mtoppar\u001b[0m/\n",
            "step3_input.gro  step4.1_equilibration.mdp  step5_production.mdp\n"
          ]
        }
      ]
    },
    {
      "cell_type": "code",
      "source": [
        "!pip install MDAnalysis\n",
        "import MDAnalysis as mda\n"
      ],
      "metadata": {
        "colab": {
          "base_uri": "https://localhost:8080/"
        },
        "id": "kG85i3YVpwa0",
        "outputId": "5996ffdb-6751-4580-8b66-bec234488040"
      },
      "execution_count": null,
      "outputs": [
        {
          "output_type": "stream",
          "name": "stdout",
          "text": [
            "Looking in indexes: https://pypi.org/simple, https://us-python.pkg.dev/colab-wheels/public/simple/\n",
            "Collecting MDAnalysis\n",
            "  Downloading MDAnalysis-2.1.0.tar.gz (3.5 MB)\n",
            "\u001b[K     |████████████████████████████████| 3.5 MB 36.3 MB/s \n",
            "\u001b[?25h  Installing build dependencies ... \u001b[?25l\u001b[?25hdone\n",
            "  Getting requirements to build wheel ... \u001b[?25l\u001b[?25hdone\n",
            "    Preparing wheel metadata ... \u001b[?25l\u001b[?25hdone\n",
            "Collecting GridDataFormats>=0.4.0\n",
            "  Downloading GridDataFormats-0.7.0-py2.py3-none-any.whl (2.1 MB)\n",
            "\u001b[K     |████████████████████████████████| 2.1 MB 51.7 MB/s \n",
            "\u001b[?25hRequirement already satisfied: threadpoolctl in /usr/local/lib/python3.7/dist-packages (from MDAnalysis) (3.1.0)\n",
            "Requirement already satisfied: numpy>=1.18.0 in /usr/local/lib/python3.7/dist-packages (from MDAnalysis) (1.21.6)\n",
            "Requirement already satisfied: packaging in /usr/local/lib/python3.7/dist-packages (from MDAnalysis) (21.3)\n",
            "Requirement already satisfied: matplotlib>=1.5.1 in /usr/local/lib/python3.7/dist-packages (from MDAnalysis) (3.2.2)\n",
            "Collecting gsd>=1.4.0\n",
            "  Downloading gsd-2.6.0-cp37-cp37m-manylinux_2_17_x86_64.manylinux2014_x86_64.whl (376 kB)\n",
            "\u001b[K     |████████████████████████████████| 376 kB 70.0 MB/s \n",
            "\u001b[?25hRequirement already satisfied: joblib>=0.12 in /usr/local/lib/python3.7/dist-packages (from MDAnalysis) (1.2.0)\n",
            "Collecting biopython>=1.71\n",
            "  Downloading biopython-1.79-cp37-cp37m-manylinux_2_17_x86_64.manylinux2014_x86_64.whl (2.6 MB)\n",
            "\u001b[K     |████████████████████████████████| 2.6 MB 56.8 MB/s \n",
            "\u001b[?25hRequirement already satisfied: networkx>=1.0 in /usr/local/lib/python3.7/dist-packages (from MDAnalysis) (2.6.3)\n",
            "Requirement already satisfied: scipy>=1.0.0 in /usr/local/lib/python3.7/dist-packages (from MDAnalysis) (1.7.3)\n",
            "Requirement already satisfied: tqdm>=4.43.0 in /usr/local/lib/python3.7/dist-packages (from MDAnalysis) (4.64.1)\n",
            "Collecting mmtf-python>=1.0.0\n",
            "  Downloading mmtf_python-1.1.3-py2.py3-none-any.whl (25 kB)\n",
            "Collecting mrcfile\n",
            "  Downloading mrcfile-1.4.3-py2.py3-none-any.whl (43 kB)\n",
            "\u001b[K     |████████████████████████████████| 43 kB 2.1 MB/s \n",
            "\u001b[?25hRequirement already satisfied: six in /usr/local/lib/python3.7/dist-packages (from GridDataFormats>=0.4.0->MDAnalysis) (1.15.0)\n",
            "Requirement already satisfied: pyparsing!=2.0.4,!=2.1.2,!=2.1.6,>=2.0.1 in /usr/local/lib/python3.7/dist-packages (from matplotlib>=1.5.1->MDAnalysis) (3.0.9)\n",
            "Requirement already satisfied: cycler>=0.10 in /usr/local/lib/python3.7/dist-packages (from matplotlib>=1.5.1->MDAnalysis) (0.11.0)\n",
            "Requirement already satisfied: kiwisolver>=1.0.1 in /usr/local/lib/python3.7/dist-packages (from matplotlib>=1.5.1->MDAnalysis) (1.4.4)\n",
            "Requirement already satisfied: python-dateutil>=2.1 in /usr/local/lib/python3.7/dist-packages (from matplotlib>=1.5.1->MDAnalysis) (2.8.2)\n",
            "Requirement already satisfied: typing-extensions in /usr/local/lib/python3.7/dist-packages (from kiwisolver>=1.0.1->matplotlib>=1.5.1->MDAnalysis) (4.1.1)\n",
            "Requirement already satisfied: msgpack>=1.0.0 in /usr/local/lib/python3.7/dist-packages (from mmtf-python>=1.0.0->MDAnalysis) (1.0.4)\n",
            "Building wheels for collected packages: MDAnalysis\n",
            "  Building wheel for MDAnalysis (PEP 517) ... \u001b[?25l\u001b[?25hdone\n",
            "  Created wheel for MDAnalysis: filename=MDAnalysis-2.1.0-cp37-cp37m-linux_x86_64.whl size=4649745 sha256=4e459c84d082fc413cd17e48f400377c3c0db404b610d3fe83aa5559d95342b9\n",
            "  Stored in directory: /root/.cache/pip/wheels/fa/dd/6b/9d51e7216a401b71949467a123e3b2dffba11256346f7f7bda\n",
            "Successfully built MDAnalysis\n",
            "Installing collected packages: mrcfile, mmtf-python, gsd, GridDataFormats, biopython, MDAnalysis\n",
            "Successfully installed GridDataFormats-0.7.0 MDAnalysis-2.1.0 biopython-1.79 gsd-2.6.0 mmtf-python-1.1.3 mrcfile-1.4.3\n"
          ]
        }
      ]
    },
    {
      "cell_type": "code",
      "source": [
        "!pip install matplotlib\n",
        "import matplotlib.pyplot as plt"
      ],
      "metadata": {
        "colab": {
          "base_uri": "https://localhost:8080/"
        },
        "id": "fs35GO-wqqFm",
        "outputId": "4158ec19-5c8d-4666-8cf3-14f9692d67fa"
      },
      "execution_count": null,
      "outputs": [
        {
          "output_type": "stream",
          "name": "stdout",
          "text": [
            "Looking in indexes: https://pypi.org/simple, https://us-python.pkg.dev/colab-wheels/public/simple/\n",
            "Requirement already satisfied: matplotlib in /usr/local/lib/python3.7/dist-packages (3.2.2)\n",
            "Requirement already satisfied: python-dateutil>=2.1 in /usr/local/lib/python3.7/dist-packages (from matplotlib) (2.8.2)\n",
            "Requirement already satisfied: numpy>=1.11 in /usr/local/lib/python3.7/dist-packages (from matplotlib) (1.21.6)\n",
            "Requirement already satisfied: cycler>=0.10 in /usr/local/lib/python3.7/dist-packages (from matplotlib) (0.11.0)\n",
            "Requirement already satisfied: pyparsing!=2.0.4,!=2.1.2,!=2.1.6,>=2.0.1 in /usr/local/lib/python3.7/dist-packages (from matplotlib) (3.0.9)\n",
            "Requirement already satisfied: kiwisolver>=1.0.1 in /usr/local/lib/python3.7/dist-packages (from matplotlib) (1.4.4)\n",
            "Requirement already satisfied: typing-extensions in /usr/local/lib/python3.7/dist-packages (from kiwisolver>=1.0.1->matplotlib) (4.1.1)\n",
            "Requirement already satisfied: six>=1.5 in /usr/local/lib/python3.7/dist-packages (from python-dateutil>=2.1->matplotlib) (1.15.0)\n"
          ]
        }
      ]
    },
    {
      "cell_type": "code",
      "source": [
        "u = mda.Universe('step3_input.gro', 'step5_1.xtc')"
      ],
      "metadata": {
        "id": "YLb8e6ttq0eP"
      },
      "execution_count": null,
      "outputs": []
    },
    {
      "cell_type": "code",
      "source": [
        "u.trajectory"
      ],
      "metadata": {
        "colab": {
          "base_uri": "https://localhost:8080/"
        },
        "id": "LAK51THWq_wB",
        "outputId": "7220acc8-c21d-49d4-dec5-f44a141c5d71"
      },
      "execution_count": null,
      "outputs": [
        {
          "output_type": "execute_result",
          "data": {
            "text/plain": [
              "<XTCReader step5_1.xtc with 11 frames of 79732 atoms>"
            ]
          },
          "metadata": {},
          "execution_count": 12
        }
      ]
    },
    {
      "cell_type": "code",
      "source": [
        "polymer1 = u.atoms[0:61]"
      ],
      "metadata": {
        "id": "f4fdPNQgrGgF"
      },
      "execution_count": null,
      "outputs": []
    },
    {
      "cell_type": "code",
      "source": [
        "for ts in u.trajectory[1:11]:\n",
        "    rad = polymer1.radius_of_gyration()\n",
        "    print('frame={}: radgyr={}'.format(ts.frame, rad))"
      ],
      "metadata": {
        "colab": {
          "base_uri": "https://localhost:8080/"
        },
        "id": "p8P0J5JerO4x",
        "outputId": "c7a9e87a-9fa9-4b51-bfee-f21fbc4ee0a2"
      },
      "execution_count": null,
      "outputs": [
        {
          "output_type": "stream",
          "name": "stdout",
          "text": [
            "frame=1: radgyr=5.645861593919044\n",
            "frame=2: radgyr=6.528878446957649\n",
            "frame=3: radgyr=6.081913138493524\n",
            "frame=4: radgyr=5.360171465189721\n",
            "frame=5: radgyr=6.398609554414721\n",
            "frame=6: radgyr=5.736803093499313\n",
            "frame=7: radgyr=6.455351394738375\n",
            "frame=8: radgyr=6.365853051189608\n",
            "frame=9: radgyr=6.037873940452979\n",
            "frame=10: radgyr=6.45614832529744\n"
          ]
        }
      ]
    },
    {
      "cell_type": "code",
      "source": [
        "!wget -qnc https://repo.anaconda.com/miniconda/Miniconda3-latest-Linux-x86_64.sh \n",
        "!bash Miniconda3-latest-Linux-x86_64.sh -bfp /usr/local 2>&1 1>/dev/null"
      ],
      "metadata": {
        "colab": {
          "base_uri": "https://localhost:8080/"
        },
        "id": "mQ1JU2kareFQ",
        "outputId": "3e239150-c311-4edd-c2fb-905fc87eeeb7"
      },
      "execution_count": null,
      "outputs": [
        {
          "output_type": "stream",
          "name": "stdout",
          "text": []
        }
      ]
    },
    {
      "cell_type": "code",
      "source": [
        "!conda install pandas"
      ],
      "metadata": {
        "colab": {
          "base_uri": "https://localhost:8080/"
        },
        "id": "9uPw8760rrco",
        "outputId": "bb53bea9-7e3f-4c44-801a-e92f2780d027"
      },
      "execution_count": null,
      "outputs": [
        {
          "output_type": "stream",
          "name": "stdout",
          "text": [
            "Collecting package metadata (current_repodata.json): - \b\b\\ \b\b| \b\b/ \b\b- \b\b\\ \b\b| \b\b/ \b\b- \b\b\\ \b\b| \b\b/ \b\b- \b\b\\ \b\b| \b\b/ \b\b- \b\b\\ \b\bdone\n",
            "Solving environment: / \b\b- \b\b\\ \b\b| \b\b/ \b\b- \b\b\\ \b\b| \b\bdone\n",
            "\n",
            "## Package Plan ##\n",
            "\n",
            "  environment location: /usr/local\n",
            "\n",
            "  added / updated specs:\n",
            "    - pandas\n",
            "\n",
            "\n",
            "The following packages will be downloaded:\n",
            "\n",
            "    package                    |            build\n",
            "    ---------------------------|-----------------\n",
            "    blas-1.0                   |              mkl           6 KB\n",
            "    bottleneck-1.3.5           |   py39h7deecbd_0         115 KB\n",
            "    ca-certificates-2022.10.11 |       h06a4308_0         124 KB\n",
            "    certifi-2022.9.24          |   py39h06a4308_0         154 KB\n",
            "    conda-22.9.0               |   py39h06a4308_0         884 KB\n",
            "    intel-openmp-2021.4.0      |    h06a4308_3561         4.2 MB\n",
            "    libgcc-ng-11.2.0           |       h1234567_1         5.3 MB\n",
            "    libgomp-11.2.0             |       h1234567_1         474 KB\n",
            "    libstdcxx-ng-11.2.0        |       h1234567_1         4.7 MB\n",
            "    mkl-2021.4.0               |     h06a4308_640       142.6 MB\n",
            "    mkl-service-2.4.0          |   py39h7f8727e_0          59 KB\n",
            "    mkl_fft-1.3.1              |   py39hd3c417c_0         182 KB\n",
            "    mkl_random-1.2.2           |   py39h51133e4_0         309 KB\n",
            "    numexpr-2.8.3              |   py39h807cd23_0         124 KB\n",
            "    numpy-1.23.3               |   py39h14f4228_0          10 KB\n",
            "    numpy-base-1.23.3          |   py39h31eccc5_0         5.6 MB\n",
            "    openssl-1.1.1q             |       h7f8727e_0         2.5 MB\n",
            "    packaging-21.3             |     pyhd3eb1b0_0          36 KB\n",
            "    pandas-1.4.4               |   py39h6a678d5_0         9.8 MB\n",
            "    pyparsing-3.0.9            |   py39h06a4308_0         151 KB\n",
            "    python-dateutil-2.8.2      |     pyhd3eb1b0_0         233 KB\n",
            "    pytz-2022.1                |   py39h06a4308_0         194 KB\n",
            "    toolz-0.11.2               |     pyhd3eb1b0_0          49 KB\n",
            "    ------------------------------------------------------------\n",
            "                                           Total:       177.8 MB\n",
            "\n",
            "The following NEW packages will be INSTALLED:\n",
            "\n",
            "  blas               pkgs/main/linux-64::blas-1.0-mkl\n",
            "  bottleneck         pkgs/main/linux-64::bottleneck-1.3.5-py39h7deecbd_0\n",
            "  intel-openmp       pkgs/main/linux-64::intel-openmp-2021.4.0-h06a4308_3561\n",
            "  mkl                pkgs/main/linux-64::mkl-2021.4.0-h06a4308_640\n",
            "  mkl-service        pkgs/main/linux-64::mkl-service-2.4.0-py39h7f8727e_0\n",
            "  mkl_fft            pkgs/main/linux-64::mkl_fft-1.3.1-py39hd3c417c_0\n",
            "  mkl_random         pkgs/main/linux-64::mkl_random-1.2.2-py39h51133e4_0\n",
            "  numexpr            pkgs/main/linux-64::numexpr-2.8.3-py39h807cd23_0\n",
            "  numpy              pkgs/main/linux-64::numpy-1.23.3-py39h14f4228_0\n",
            "  numpy-base         pkgs/main/linux-64::numpy-base-1.23.3-py39h31eccc5_0\n",
            "  packaging          pkgs/main/noarch::packaging-21.3-pyhd3eb1b0_0\n",
            "  pandas             pkgs/main/linux-64::pandas-1.4.4-py39h6a678d5_0\n",
            "  pyparsing          pkgs/main/linux-64::pyparsing-3.0.9-py39h06a4308_0\n",
            "  python-dateutil    pkgs/main/noarch::python-dateutil-2.8.2-pyhd3eb1b0_0\n",
            "  pytz               pkgs/main/linux-64::pytz-2022.1-py39h06a4308_0\n",
            "  toolz              pkgs/main/noarch::toolz-0.11.2-pyhd3eb1b0_0\n",
            "\n",
            "The following packages will be UPDATED:\n",
            "\n",
            "  ca-certificates                      2022.3.29-h06a4308_1 --> 2022.10.11-h06a4308_0\n",
            "  certifi                          2021.10.8-py39h06a4308_2 --> 2022.9.24-py39h06a4308_0\n",
            "  conda                               4.12.0-py39h06a4308_0 --> 22.9.0-py39h06a4308_0\n",
            "  libgcc-ng                               9.3.0-h5101ec6_17 --> 11.2.0-h1234567_1\n",
            "  libgomp                                 9.3.0-h5101ec6_17 --> 11.2.0-h1234567_1\n",
            "  libstdcxx-ng                            9.3.0-hd4cf53a_17 --> 11.2.0-h1234567_1\n",
            "  openssl                                 1.1.1n-h7f8727e_0 --> 1.1.1q-h7f8727e_0\n",
            "\n",
            "\n",
            "Proceed ([y]/n)? y\n",
            "\n",
            "\n",
            "Downloading and Extracting Packages\n",
            "certifi-2022.9.24    | 154 KB    | : 100% 1.0/1 [00:00<00:00, 12.70it/s]\n",
            "conda-22.9.0         | 884 KB    | : 100% 1.0/1 [00:00<00:00, 10.75it/s]\n",
            "pyparsing-3.0.9      | 151 KB    | : 100% 1.0/1 [00:00<00:00, 26.20it/s]\n",
            "numexpr-2.8.3        | 124 KB    | : 100% 1.0/1 [00:00<00:00, 27.54it/s]\n",
            "toolz-0.11.2         | 49 KB     | : 100% 1.0/1 [00:00<00:00, 27.06it/s]\n",
            "libgomp-11.2.0       | 474 KB    | : 100% 1.0/1 [00:00<00:00, 20.15it/s]\n",
            "openssl-1.1.1q       | 2.5 MB    | : 100% 1.0/1 [00:00<00:00, 10.34it/s]\n",
            "ca-certificates-2022 | 124 KB    | : 100% 1.0/1 [00:00<00:00, 20.22it/s]\n",
            "pytz-2022.1          | 194 KB    | : 100% 1.0/1 [00:00<00:00, 10.98it/s]\n",
            "mkl-2021.4.0         | 142.6 MB  | : 100% 1.0/1 [00:05<00:00,  5.13s/it]               \n",
            "pandas-1.4.4         | 9.8 MB    | : 100% 1.0/1 [00:00<00:00,  1.72it/s]\n",
            "mkl_random-1.2.2     | 309 KB    | : 100% 1.0/1 [00:00<00:00, 19.76it/s]\n",
            "packaging-21.3       | 36 KB     | : 100% 1.0/1 [00:00<00:00, 23.21it/s]\n",
            "mkl_fft-1.3.1        | 182 KB    | : 100% 1.0/1 [00:00<00:00, 21.29it/s]\n",
            "numpy-1.23.3         | 10 KB     | : 100% 1.0/1 [00:00<00:00, 27.09it/s]\n",
            "python-dateutil-2.8. | 233 KB    | : 100% 1.0/1 [00:00<00:00, 23.25it/s]\n",
            "blas-1.0             | 6 KB      | : 100% 1.0/1 [00:00<00:00, 28.64it/s]\n",
            "libgcc-ng-11.2.0     | 5.3 MB    | : 100% 1.0/1 [00:00<00:00,  5.51it/s]\n",
            "mkl-service-2.4.0    | 59 KB     | : 100% 1.0/1 [00:00<00:00, 18.33it/s]\n",
            "numpy-base-1.23.3    | 5.6 MB    | : 100% 1.0/1 [00:00<00:00,  2.95it/s]\n",
            "libstdcxx-ng-11.2.0  | 4.7 MB    | : 100% 1.0/1 [00:00<00:00,  5.90it/s]\n",
            "bottleneck-1.3.5     | 115 KB    | : 100% 1.0/1 [00:00<00:00, 21.39it/s]\n",
            "intel-openmp-2021.4. | 4.2 MB    | : 100% 1.0/1 [00:00<00:00,  6.82it/s]\n",
            "Preparing transaction: - \b\b\\ \b\bdone\n",
            "Verifying transaction: / \b\b- \b\b\\ \b\b| \b\b/ \b\b- \b\bdone\n",
            "Executing transaction: | \b\b/ \b\b- \b\b\\ \b\b| \b\b/ \b\b- \b\b\\ \b\b| \b\b/ \b\b- \b\b\\ \b\b| \b\b/ \b\b- \b\b\\ \b\b| \b\b/ \b\b- \b\b\\ \b\b| \b\b/ \b\b- \b\b\\ \b\b| \b\b/ \b\b- \b\b\\ \b\b| \b\b/ \b\b- \b\b\\ \b\b| \b\b/ \b\b- \b\b\\ \b\b| \b\b/ \b\b- \b\b\\ \b\b| \b\bdone\n"
          ]
        }
      ]
    },
    {
      "cell_type": "code",
      "source": [
        "rgyr = []\n",
        "time = []\n",
        "polymer1 = u.atoms[0:61]\n",
        "for ts in u.trajectory:\n",
        "    time.append(u.trajectory.time)\n",
        "    rgyr.append(polymer1.radius_of_gyration())"
      ],
      "metadata": {
        "id": "EDfiNcY0sDtU"
      },
      "execution_count": null,
      "outputs": []
    },
    {
      "cell_type": "code",
      "source": [
        "import pandas as pd\n",
        "rgyr_df = pd.DataFrame(rgyr, columns=['Radius of gyration (A)'], index=time)\n",
        "rgyr_df.index.name = 'Time (ps)'\n"
      ],
      "metadata": {
        "id": "hdQ_4xrvsHd0"
      },
      "execution_count": null,
      "outputs": []
    },
    {
      "cell_type": "code",
      "source": [
        "%matplotlib inline\n",
        "\n",
        "rgyr_df.plot(title='Radius of gyration')"
      ],
      "metadata": {
        "colab": {
          "base_uri": "https://localhost:8080/",
          "height": 312
        },
        "id": "pJnaoCLCsLyI",
        "outputId": "d68b33d3-4b6a-47c1-e606-dedf590c2392"
      },
      "execution_count": null,
      "outputs": [
        {
          "output_type": "execute_result",
          "data": {
            "text/plain": [
              "<matplotlib.axes._subplots.AxesSubplot at 0x7ff4fc7c5450>"
            ]
          },
          "metadata": {},
          "execution_count": 21
        },
        {
          "output_type": "display_data",
          "data": {
            "text/plain": [
              "<Figure size 432x288 with 1 Axes>"
            ],
            "image/png": "[encoded data removed]"
          },
          "metadata": {
            "needs_background": "light"
          }
        }
      ]
    },
    {
      "cell_type": "markdown",
      "source": [
        "Try averaging over all chains."
      ],
      "metadata": {
        "id": "trBZkpGHymSm"
      }
    },
    {
      "cell_type": "code",
      "source": [
        "chains = u.atoms.fragments"
      ],
      "metadata": {
        "colab": {
          "base_uri": "https://localhost:8080/",
          "height": 165
        },
        "id": "EC_UYzy906Nd",
        "outputId": "b2807814-5ec7-4c77-a366-1e1cfcbd6e12"
      },
      "execution_count": 1,
      "outputs": [
        {
          "output_type": "error",
          "ename": "NameError",
          "evalue": "ignored",
          "traceback": [
            "\u001b[0;31m---------------------------------------------------------------------------\u001b[0m",
            "\u001b[0;31mNameError\u001b[0m                                 Traceback (most recent call last)",
            "\u001b[0;32m<ipython-input-1-7cdbd3be4b13>\u001b[0m in \u001b[0;36m<module>\u001b[0;34m\u001b[0m\n\u001b[0;32m----> 1\u001b[0;31m \u001b[0mchains\u001b[0m \u001b[0;34m=\u001b[0m \u001b[0mu\u001b[0m\u001b[0;34m.\u001b[0m\u001b[0matoms\u001b[0m\u001b[0;34m.\u001b[0m\u001b[0mfragments\u001b[0m\u001b[0;34m\u001b[0m\u001b[0;34m\u001b[0m\u001b[0m\n\u001b[0m",
            "\u001b[0;31mNameError\u001b[0m: name 'u' is not defined"
          ]
        }
      ]
    },
    {
      "cell_type": "markdown",
      "source": [
        "Mean squared displacement."
      ],
      "metadata": {
        "id": "bMYgXfIF0JE8"
      }
    }
  ]
}